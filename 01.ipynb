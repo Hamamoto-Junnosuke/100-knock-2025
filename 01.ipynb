{
 "cells": [
  {
   "cell_type": "markdown",
   "metadata": {},
   "source": [
    "#第1章: 準備運動"
   ]
  },
  {
   "cell_type": "code",
   "execution_count": 1,
   "metadata": {},
   "outputs": [
    {
     "name": "stdout",
     "output_type": "stream",
     "text": [
      "desserts\n"
     ]
    }
   ],
   "source": [
    "\"\"\"\n",
    "00. 文字列の逆順Permalink\n",
    "文字列”stressed”の文字を逆に（末尾から先頭に向かって）並べた文字列を得よ．\n",
    "\"\"\"\n",
    "original = \"stressed\"\n",
    "reversed = original[::-1]\n",
    "print(reversed)"
   ]
  },
  {
   "cell_type": "code",
   "execution_count": 5,
   "metadata": {},
   "outputs": [
    {
     "name": "stdout",
     "output_type": "stream",
     "text": [
      "パトカー\n"
     ]
    }
   ],
   "source": [
    "\"\"\"\n",
    "01. 「パタトクカシーー」Permalink\n",
    "「パタトクカシーー」という文字列の1,3,5,7文字目を取り出して連結した文字列を得よ．\n",
    "\"\"\"\n",
    "original = \"パタトクカシーー\"\n",
    "original_list = list(original)\n",
    "print(''.join([original_list[0],original_list[2],original_list[4],original_list[6]]))"
   ]
  },
  {
   "cell_type": "code",
   "execution_count": 11,
   "metadata": {},
   "outputs": [
    {
     "name": "stdout",
     "output_type": "stream",
     "text": [
      "パタトクカシーー\n"
     ]
    }
   ],
   "source": [
    "\"\"\"\n",
    "02. 「パトカー」＋「タクシー」＝「パタトクカシーー」Permalink\n",
    "「パトカー」＋「タクシー」の文字を先頭から交互に連結して文字列「パタトクカシーー」を得よ．\n",
    "\"\"\"\n",
    "s1 = \"パトカー\"\n",
    "s2 = \"タクシー\"\n",
    "s1_list = list(s1)\n",
    "s2_list = list(s2)\n",
    "s3 = []\n",
    "for i, j in zip(s1_list, s2_list):\n",
    "    s3.append(i + j)\n",
    "print(''.join(s3))\n"
   ]
  },
  {
   "cell_type": "code",
   "execution_count": 15,
   "metadata": {},
   "outputs": [
    {
     "name": "stdout",
     "output_type": "stream",
     "text": [
      "[3, 1, 4, 1, 5, 9, 2, 6, 5, 3, 5, 8, 9, 7, 9]\n"
     ]
    }
   ],
   "source": [
    "\"\"\"\n",
    "03. 円周率Permalink\n",
    "“Now I need a drink, alcoholic of course, after the heavy lectures involving quantum mechanics.”という文を単語に分解し，各単語の（アルファベットの）文字数を先頭から出現順に並べたリストを作成せよ．\n",
    "\"\"\"\n",
    "s = \"Now I need a drink, alcoholic of course, after the heavy lectures involving quantum mechanics.\"\n",
    "word_list = s.replace(\",\", \"\").replace(\".\", \"\").split()\n",
    "word_cnt = []\n",
    "for i in word_list:\n",
    "    word_cnt.append(len(i))\n",
    "print(word_cnt)"
   ]
  },
  {
   "cell_type": "code",
   "execution_count": 17,
   "metadata": {},
   "outputs": [
    {
     "name": "stdout",
     "output_type": "stream",
     "text": [
      "{1: 'H', 2: 'He', 3: 'Li', 4: 'Be', 5: 'B', 6: 'C', 7: 'N', 8: 'O', 9: 'F', 10: 'Ne', 11: 'Na', 12: 'Mi', 13: 'Al', 14: 'Si', 15: 'P', 16: 'S', 17: 'Cl', 18: 'Ar', 19: 'K', 20: 'Ca'}\n"
     ]
    }
   ],
   "source": [
    "\"\"\"\n",
    "04. 元素記号Permalink\n",
    "“Hi He Lied Because Boron Could Not Oxidize Fluorine. New Nations Might Also Sign Peace Security Clause. Arthur King Can.”という文を単語に分解し，\n",
    "1, 5, 6, 7, 8, 9, 15, 16, 19番目の単語は先頭の1文字，それ以外の単語は先頭の2文字を取り出し，\n",
    "取り出した文字列から単語の位置（先頭から何番目の単語か）への連想配列（辞書型もしくはマップ型）を作成せよ．\n",
    "\"\"\"\n",
    "s = \"Hi He Lied Because Boron Could Not Oxidize Fluorine. New Nations Might Also Sign Peace Security Clause. Arthur King Can.\"\n",
    "word_list = s.replace(\",\", \"\").replace(\".\", \"\").split()\n",
    "one_char = [1, 5, 6, 7, 8, 9, 15, 16, 19]\n",
    "word_dict = {}\n",
    "for i, word in enumerate(word_list):\n",
    "    if i + 1 in one_char:\n",
    "        word_dict[i + 1] = word[0]\n",
    "    else:\n",
    "        word_dict[i + 1] = word[:2]\n",
    "print(word_dict)"
   ]
  },
  {
   "cell_type": "code",
   "execution_count": 32,
   "metadata": {},
   "outputs": [
    {
     "name": "stdout",
     "output_type": "stream",
     "text": [
      "[('I', 'am'), ('am', 'an'), ('an', 'NLPer')]\n",
      "[('I', ' '), (' ', 'a'), ('a', 'm'), ('m', ' '), (' ', 'a'), ('a', 'n'), ('n', ' '), (' ', 'N'), ('N', 'L'), ('L', 'P'), ('P', 'e'), ('e', 'r')]\n"
     ]
    }
   ],
   "source": [
    "\"\"\"\n",
    "05. n-gramPermalink\n",
    "与えられたシーケンス（文字列やリストなど）からn-gramを作る関数を作成せよ．この関数を用い，”I am an NLPer”という文から単語bi-gram，文字bi-gramを得よ．\n",
    "\"\"\"\n",
    "\"\"\"\n",
    "タプルとリストの違い\n",
    "リストはミュータブルであり、タプルはイミュータブルである\n",
    "イミュータブル：オブジェクト id を変えずに、要素を追加・変更・削除することができない\n",
    "ミュータブル：イミュータブルの逆\n",
    "\"\"\"\n",
    "def n_gram(word_list, n):\n",
    "    n_gram_list = []\n",
    "    for i in range(len(word_list) - n + 1):\n",
    "        n_gram_list.append(tuple(word_list[i:i+n]))\n",
    "    return n_gram_list\n",
    "\n",
    "s = \"I am an NLPer\"\n",
    "word_list = s.split()\n",
    "char_list = list(s)\n",
    "\n",
    "word_bi_gram = n_gram(word_list, 2)\n",
    "print(word_bi_gram)\n",
    "\n",
    "char_bi_gram = n_gram(char_list, 2)\n",
    "print(char_bi_gram)"
   ]
  },
  {
   "cell_type": "code",
   "execution_count": 38,
   "metadata": {},
   "outputs": [
    {
     "name": "stdout",
     "output_type": "stream",
     "text": [
      "和集合: {('p', 'a'), ('i', 's'), ('s', 'e'), ('a', 'p'), ('a', 'd'), ('p', 'h'), ('a', 'r'), ('a', 'g'), ('g', 'r'), ('r', 'a'), ('d', 'i')}\n",
      "積集合: {('p', 'a'), ('r', 'a'), ('a', 'p'), ('a', 'r')}\n",
      "差集合: {('d', 'i'), ('s', 'e'), ('i', 's'), ('a', 'd')}\n",
      "Xに'se'は含まれているか？ Yes\n",
      "Yに'se'は含まれているか？ No\n"
     ]
    }
   ],
   "source": [
    "\"\"\"\n",
    "06. 集合Permalink\n",
    "“paraparaparadise”と”paragraph”に含まれる文字bi-gramの集合を，それぞれ, XとYとして求め，\n",
    "XとYの和集合，積集合，差集合を求めよ．さらに，’se’というbi-gramがXおよびYに含まれるかどうかを調べよ．\n",
    "\"\"\"\n",
    "def n_gram(word_list, n):\n",
    "    n_gram_list = []\n",
    "    for i in range(len(word_list) - n + 1):\n",
    "        n_gram_list.append(tuple(word_list[i:i+n]))\n",
    "    return n_gram_list\n",
    "s1 = \"paraparaparadise\"\n",
    "s2 = \"paragraph\"\n",
    "s1_list = list(s1)\n",
    "s2_list = list(s2)\n",
    "x = n_gram(s1_list, 2)\n",
    "y = n_gram(s2_list, 2)\n",
    "\n",
    "union_set = set(x) | set(y)\n",
    "print(\"和集合:\", union_set)\n",
    "\n",
    "intersection_set = set(x) & set(y)\n",
    "print(\"積集合:\", intersection_set)\n",
    "\n",
    "difference_set = set(x) - set(y) \n",
    "print(\"差集合:\", difference_set)\n",
    "\n",
    "se = 'se'\n",
    "se_list = list(se)\n",
    "se_bi_gram = n_gram(se_list, 2)\n",
    "\n",
    "print(\"Xに'se'は含まれているか？\",'Yes' if set(x) & set(se_bi_gram) == set(se_bi_gram) else 'No')\n",
    "print(\"Yに'se'は含まれているか？\",'Yes' if set(y) & set(se_bi_gram) == set(se_bi_gram) else 'No')\n"
   ]
  },
  {
   "cell_type": "code",
   "execution_count": 40,
   "metadata": {},
   "outputs": [
    {
     "name": "stdout",
     "output_type": "stream",
     "text": [
      "12 時の 気温 は 22.4\n"
     ]
    }
   ],
   "source": [
    "\"\"\"\n",
    "07. テンプレートによる文生成Permalink\n",
    "引数x, y, zを受け取り「x時のyはz」という文字列を返す関数を実装せよ．さらに，x=12, y=”気温”, z=22.4として，実行結果を確認せよ．\n",
    "\"\"\"\n",
    "def get_time_description(x, y, z):\n",
    "    return f\"{x} 時の {y} は {z}\"\n",
    "x = 12\n",
    "y = \"気温\"\n",
    "z = 22.4\n",
    "\n",
    "s = get_time_description(x, y, z)\n",
    "print(s)"
   ]
  },
  {
   "cell_type": "code",
   "execution_count": 51,
   "metadata": {},
   "outputs": [
    {
     "name": "stdout",
     "output_type": "stream",
     "text": [
      "　原文： I am an NLPer\n",
      "暗号化： I zn zm NLPvi\n",
      "複合化： I am an NLPer\n"
     ]
    }
   ],
   "source": [
    "\"\"\"\n",
    "08. 暗号文Permalink\n",
    "与えられた文字列の各文字を，以下の仕様で変換する関数cipherを実装せよ．\n",
    "\n",
    "英小文字ならば(219 - 文字コード)の文字に置換\n",
    "その他の文字はそのまま出力\n",
    "この関数を用い，英語のメッセージを暗号化・復号化せよ．\n",
    "\"\"\"\n",
    "def cipher(s):\n",
    "    s_list = list(s)\n",
    "    for i in range(len(s_list)):\n",
    "        if ord(s_list[i]) >=97 and ord(s_list[i]) <= 122:\n",
    "            s_list[i] =  chr(219 - ord(s_list[i]))\n",
    "    return ''.join(s_list) \n",
    "\n",
    "message = \"I am an NLPer\"\n",
    "print(\"　原文：\",message)\n",
    "encryption_message = cipher(message)\n",
    "print(\"暗号化：\",encryption_message)\n",
    "\n",
    "decryption_message = cipher(encryption_message)\n",
    "print(\"複合化：\",decryption_message)\n",
    " "
   ]
  },
  {
   "cell_type": "code",
   "execution_count": 68,
   "metadata": {},
   "outputs": [
    {
     "name": "stdout",
     "output_type": "stream",
     "text": [
      "I cnudo’lt belveie that I culod atalucly udsearnntd what I was rnedaig : the pmhnanoeel power of the hmuan mnid .\n"
     ]
    }
   ],
   "source": [
    "\"\"\"\n",
    "09. TypoglycemiaPermalink\n",
    "スペースで区切られた単語列に対して，各単語の先頭と末尾の文字は残し，それ以外の文字の順序をランダムに並び替えるプログラムを作成せよ．\n",
    "ただし，長さが４以下の単語は並び替えないこととする．\n",
    "適当な英語の文（例えば”I couldn’t believe that I could actually understand what I was reading : the phenomenal power of the human mind .”）を与え，\n",
    "その実行結果を確認せよ．\n",
    "\"\"\"\n",
    "import random\n",
    "\n",
    "def random_string(string):\n",
    "    word_list = string.split()\n",
    "    for i in range(len(word_list)):\n",
    "        if len(word_list[i]) >= 4:\n",
    "            lst = list(word_list[i])\n",
    "            tmp = lst[1:-1]\n",
    "            random.shuffle(tmp)\n",
    "            lst[1:-1] = tmp\n",
    "            word_list[i] = ''.join(lst)\n",
    "    return ' '.join(word_list)\n",
    "\n",
    "\n",
    "s = \"I couldn’t believe that I could actually understand what I was reading : the phenomenal power of the human mind .\"\n",
    "random_s = random_string(s)\n",
    "print(random_s)"
   ]
  }
 ],
 "metadata": {
  "kernelspec": {
   "display_name": "Python 3",
   "language": "python",
   "name": "python3"
  },
  "language_info": {
   "codemirror_mode": {
    "name": "ipython",
    "version": 3
   },
   "file_extension": ".py",
   "mimetype": "text/x-python",
   "name": "python",
   "nbconvert_exporter": "python",
   "pygments_lexer": "ipython3",
   "version": "3.13.0"
  }
 },
 "nbformat": 4,
 "nbformat_minor": 2
}
