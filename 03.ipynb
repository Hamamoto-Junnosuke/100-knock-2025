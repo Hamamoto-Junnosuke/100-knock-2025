{
 "cells": [
  {
   "cell_type": "code",
   "execution_count": null,
   "metadata": {},
   "outputs": [],
   "source": [
    "\"\"\"\n",
    "20. JSONデータの読み込み\n",
    "Wikipedia記事のJSONファイルを読み込み，「イギリス」に関する記事本文を表示せよ．\n",
    "問題21-29では，ここで抽出した記事本文に対して実行せよ．\n",
    "\"\"\"\n",
    "import json\n",
    "with open('jawiki-country.json', encoding='utf-8') as f:\n",
    "    for line in f:\n",
    "        s = json.loads(line)\n",
    "        if s.get(\"title\") == \"イギリス\":\n",
    "            UK_article = s\n",
    "print(UK_article)\n"
   ]
  },
  {
   "cell_type": "code",
   "execution_count": null,
   "metadata": {},
   "outputs": [],
   "source": [
    "\"\"\"\n",
    "21. カテゴリ名を含む行を抽出\n",
    "記事中でカテゴリ名を宣言している行を抽出せよ．\n",
    "\"\"\"\n",
    "\n",
    "import re\n",
    "category_list = re.findall(r'\\[\\[Category.*', UK_article.get('text'), re.MULTILINE)\n",
    "for category in category_list:\n",
    "    print(category)\n"
   ]
  },
  {
   "cell_type": "code",
   "execution_count": null,
   "metadata": {},
   "outputs": [],
   "source": [
    "\"\"\"\n",
    "22. カテゴリ名の抽出\n",
    "記事のカテゴリ名を（行単位ではなく名前で）抽出せよ．\n",
    "\"\"\"\n",
    "import re\n",
    "category_list = re.findall(r'\\[\\[Category:(.*?)\\|*\\**\\]\\]', UK_article.get('text'), re.MULTILINE)\n",
    "for category in category_list:\n",
    "    print(category)\n"
   ]
  },
  {
   "cell_type": "code",
   "execution_count": null,
   "metadata": {},
   "outputs": [],
   "source": [
    "\"\"\"\n",
    "23. セクション構造\n",
    "記事中に含まれるセクション名とそのレベル（例えば”== セクション名 ==”なら1）を表示せよ．\n",
    "\"\"\"\n",
    "import re\n",
    "session_list = re.findall(r'(==+.*?==+)', UK_article.get('text'), re.MULTILINE)\n",
    "for session in session_list:\n",
    "    print(session.strip('='),int(session.count('=')/2 - 1))"
   ]
  },
  {
   "cell_type": "code",
   "execution_count": null,
   "metadata": {},
   "outputs": [],
   "source": [
    "\"\"\"\n",
    "24. ファイル参照の抽出\n",
    "記事から参照されているメディアファイルをすべて抜き出せ．\n",
    "\"\"\"\n",
    "import re\n",
    "file_list = re.findall(r'\\[\\[ファイル:(.*?)\\|', UK_article.get('text'), re.MULTILINE)\n",
    "for file in file_list:\n",
    "    print(file)\n"
   ]
  },
  {
   "cell_type": "code",
   "execution_count": 135,
   "metadata": {},
   "outputs": [
    {
     "name": "stdout",
     "output_type": "stream",
     "text": [
      "{'略名': 'イギリス', '日本語国名': 'グレートブリテン及び北アイルランド連合王国', '公式国名': '{{lang|en|United Kingdom of Great Britain and Northern Ireland}}<ref>英語以外での正式国名:<br />\\n*{{lang|gd|An Rìoghachd Aonaichte na Breatainn Mhòr agus Eirinn mu Thuath}}（[[スコットランド・ゲール語]]）\\n*{{lang|cy|Teyrnas Gyfunol Prydain Fawr a Gogledd Iwerddon}}（[[ウェールズ語]]）\\n*{{lang|ga|Ríocht Aontaithe na Breataine Móire agus Tuaisceart na hÉireann}}（[[アイルランド語]]）\\n*{{lang|kw|An Rywvaneth Unys a Vreten Veur hag Iwerdhon Glédh}}（[[コーンウォール語]]）\\n*{{lang|sco|Unitit Kinrick o Great Breetain an Northren Ireland}}（[[スコットランド語]]）\\n**{{lang|sco|Claught Kängrick o Docht Brätain an Norlin Airlann}}、{{lang|sco|Unitet Kängdom o Great Brittain an Norlin Airlann}}（アルスター・スコットランド語）</ref>', '国旗画像': 'Flag of the United Kingdom.svg', '国章画像': '[[ファイル:Royal Coat of Arms of the United Kingdom.svg|85px|イギリスの国章]]', '国章リンク': '（[[イギリスの国章|国章]]）', '標語': '{{lang|fr|[[Dieu et mon droit]]}}<br />（[[フランス語]]:[[Dieu et mon droit|神と我が権利]]）', '国歌': \"[[女王陛下万歳|{{lang|en|God Save the Queen}}]]{{en icon}}<br />''神よ女王を護り賜え''<br />{{center|[[ファイル:United States Navy Band - God Save the Queen.ogg]]}}\", '地図画像': 'Europe-UK.svg', '位置画像': 'United Kingdom (+overseas territories) in the World (+Antarctica claims).svg', '公用語': '[[英語]]', '首都': '[[ロンドン]]（事実上）', '最大都市': 'ロンドン', '元首等肩書': '[[イギリスの君主|女王]]', '元首等氏名': '[[エリザベス2世]]', '首相等肩書': '[[イギリスの首相|首相]]', '首相等氏名': '[[ボリス・ジョンソン]]', '他元首等肩書1': '[[貴族院 (イギリス)|貴族院議長]]', '他元首等氏名1': '[[:en:Norman Fowler, Baron Fowler|ノーマン・ファウラー]]', '他元首等肩書2': '[[庶民院 (イギリス)|庶民院議長]]', '他元首等氏名2': '{{仮リンク|リンゼイ・ホイル|en|Lindsay Hoyle}}', '他元首等肩書3': '[[連合王国最高裁判所|最高裁判所長官]]', '他元首等氏名3': '[[:en:Brenda Hale, Baroness Hale of Richmond|ブレンダ・ヘイル]]', '面積順位': '76', '面積大きさ': '1 E11', '面積値': '244,820', '水面積率': '1.3%', '人口統計年': '2018', '人口順位': '22', '人口大きさ': '1 E7', '人口値': '6643万5600<ref>{{Cite web|url=https://www.ons.gov.uk/peoplepopulationandcommunity/populationandmigration/populationestimates|title=Population estimates - Office for National Statistics|accessdate=2019-06-26|date=2019-06-26}}</ref>', '人口密度値': '271', 'GDP統計年元': '2012', 'GDP値元': '1兆5478億<ref name=\"imf-statistics-gdp\">[http://www.imf.org/external/pubs/ft/weo/2012/02/weodata/weorept.aspx?pr.x=70&pr.y=13&sy=2010&ey=2012&scsm=1&ssd=1&sort=country&ds=.&br=1&c=112&s=NGDP%2CNGDPD%2CPPPGDP%2CPPPPC&grp=0&a=IMF>Data and Statistics>World Economic Outlook Databases>By Countrise>United Kingdom]</ref>', 'GDP統計年MER': '2012', 'GDP順位MER': '6', 'GDP値MER': '2兆4337億<ref name=\"imf-statistics-gdp\" />', 'GDP統計年': '2012', 'GDP順位': '6', 'GDP値': '2兆3162億<ref name=\"imf-statistics-gdp\" />', 'GDP/人': '36,727<ref name=\"imf-statistics-gdp\" />', '建国形態': '建国', '確立形態1': '[[イングランド王国]]／[[スコットランド王国]]<br />（両国とも[[合同法 (1707年)|1707年合同法]]まで）', '確立年月日1': '927年／843年', '確立形態2': '[[グレートブリテン王国]]成立<br />（1707年合同法）', '確立年月日2': '1707年{{0}}5月{{0}}1日', '確立形態3': '[[グレートブリテン及びアイルランド連合王国]]成立<br />（[[合同法 (1800年)|1800年合同法]]）', '確立年月日3': '1801年{{0}}1月{{0}}1日', '確立形態4': \"現在の国号「'''グレートブリテン及び北アイルランド連合王国'''」に変更\", '確立年月日4': '1927年{{0}}4月12日', '通貨': '[[スターリング・ポンド|UKポンド]] (£)', '通貨コード': 'GBP', '時間帯': '±0', '夏時間': '+1', 'ISO 3166-1': 'GB / GBR', 'ccTLD': '[[.uk]] / [[.gb]]<ref>使用は.ukに比べ圧倒的少数。</ref>', '国際電話番号': '44', '注記': '<references/>'}\n"
     ]
    }
   ],
   "source": [
    "\"\"\"\n",
    "25. テンプレートの抽出\n",
    "記事中に含まれる「基礎情報」テンプレートのフィールド名と値を抽出し，辞書オブジェクトとして格納せよ．\n",
    "\"\"\"\n",
    "import re\n",
    "\n",
    "template_list = re.findall(r'\\{\\{基礎情報(.*?)\\n\\}\\}', UK_article.get('text'), re.DOTALL)\n",
    "template_dict = {}\n",
    "for template in template_list:\n",
    "    field_value_pairs = re.findall(r'\\|(.*?)\\s*=\\s*(.*?)(?=(?=\\n\\|)|(?=$))', template, re.DOTALL)\n",
    "\n",
    "    for field, value in field_value_pairs:\n",
    "        template_dict[field.strip()] = value.strip()\n",
    "\n",
    "print(template_dict)\n",
    "\n"
   ]
  },
  {
   "cell_type": "code",
   "execution_count": 136,
   "metadata": {},
   "outputs": [
    {
     "name": "stdout",
     "output_type": "stream",
     "text": [
      "{'略名': 'イギリス', '日本語国名': 'グレートブリテン及び北アイルランド連合王国', '公式国名': '{{lang|en|United Kingdom of Great Britain and Northern Ireland}}<ref>英語以外での正式国名:<br />\\n*{{lang|gd|An Rìoghachd Aonaichte na Breatainn Mhòr agus Eirinn mu Thuath}}（[[スコットランド・ゲール語]]）\\n*{{lang|cy|Teyrnas Gyfunol Prydain Fawr a Gogledd Iwerddon}}（[[ウェールズ語]]）\\n*{{lang|ga|Ríocht Aontaithe na Breataine Móire agus Tuaisceart na hÉireann}}（[[アイルランド語]]）\\n*{{lang|kw|An Rywvaneth Unys a Vreten Veur hag Iwerdhon Glédh}}（[[コーンウォール語]]）\\n*{{lang|sco|Unitit Kinrick o Great Breetain an Northren Ireland}}（[[スコットランド語]]）\\n**{{lang|sco|Claught Kängrick o Docht Brätain an Norlin Airlann}}、{{lang|sco|Unitet Kängdom o Great Brittain an Norlin Airlann}}（アルスター・スコットランド語）</ref>', '国旗画像': 'Flag of the United Kingdom.svg', '国章画像': '[[ファイル:Royal Coat of Arms of the United Kingdom.svg|85px|イギリスの国章]]', '国章リンク': '（[[イギリスの国章|国章]]）', '標語': '{{lang|fr|[[Dieu et mon droit]]}}<br />（[[フランス語]]:[[Dieu et mon droit|神と我が権利]]）', '国歌': '[[女王陛下万歳|{{lang|en|God Save the Queen}}]]{{en icon}}<br />神よ女王を護り賜え<br />{{center|[[ファイル:United States Navy Band - God Save the Queen.ogg]]}}', '地図画像': 'Europe-UK.svg', '位置画像': 'United Kingdom (+overseas territories) in the World (+Antarctica claims).svg', '公用語': '[[英語]]', '首都': '[[ロンドン]]（事実上）', '最大都市': 'ロンドン', '元首等肩書': '[[イギリスの君主|女王]]', '元首等氏名': '[[エリザベス2世]]', '首相等肩書': '[[イギリスの首相|首相]]', '首相等氏名': '[[ボリス・ジョンソン]]', '他元首等肩書1': '[[貴族院 (イギリス)|貴族院議長]]', '他元首等氏名1': '[[:en:Norman Fowler, Baron Fowler|ノーマン・ファウラー]]', '他元首等肩書2': '[[庶民院 (イギリス)|庶民院議長]]', '他元首等氏名2': '{{仮リンク|リンゼイ・ホイル|en|Lindsay Hoyle}}', '他元首等肩書3': '[[連合王国最高裁判所|最高裁判所長官]]', '他元首等氏名3': '[[:en:Brenda Hale, Baroness Hale of Richmond|ブレンダ・ヘイル]]', '面積順位': '76', '面積大きさ': '1 E11', '面積値': '244,820', '水面積率': '1.3%', '人口統計年': '2018', '人口順位': '22', '人口大きさ': '1 E7', '人口値': '6643万5600<ref>{{Cite web|url=https://www.ons.gov.uk/peoplepopulationandcommunity/populationandmigration/populationestimates|title=Population estimates - Office for National Statistics|accessdate=2019-06-26|date=2019-06-26}}</ref>', '人口密度値': '271', 'GDP統計年元': '2012', 'GDP値元': '1兆5478億<ref name=\"imf-statistics-gdp\">[http://www.imf.org/external/pubs/ft/weo/2012/02/weodata/weorept.aspx?pr.x=70&pr.y=13&sy=2010&ey=2012&scsm=1&ssd=1&sort=country&ds=.&br=1&c=112&s=NGDP%2CNGDPD%2CPPPGDP%2CPPPPC&grp=0&a=IMF>Data and Statistics>World Economic Outlook Databases>By Countrise>United Kingdom]</ref>', 'GDP統計年MER': '2012', 'GDP順位MER': '6', 'GDP値MER': '2兆4337億<ref name=\"imf-statistics-gdp\" />', 'GDP統計年': '2012', 'GDP順位': '6', 'GDP値': '2兆3162億<ref name=\"imf-statistics-gdp\" />', 'GDP/人': '36,727<ref name=\"imf-statistics-gdp\" />', '建国形態': '建国', '確立形態1': '[[イングランド王国]]／[[スコットランド王国]]<br />（両国とも[[合同法 (1707年)|1707年合同法]]まで）', '確立年月日1': '927年／843年', '確立形態2': '[[グレートブリテン王国]]成立<br />（1707年合同法）', '確立年月日2': '1707年{{0}}5月{{0}}1日', '確立形態3': '[[グレートブリテン及びアイルランド連合王国]]成立<br />（[[合同法 (1800年)|1800年合同法]]）', '確立年月日3': '1801年{{0}}1月{{0}}1日', '確立形態4': '現在の国号「グレートブリテン及び北アイルランド連合王国」に変更', '確立年月日4': '1927年{{0}}4月12日', '通貨': '[[スターリング・ポンド|UKポンド]] (£)', '通貨コード': 'GBP', '時間帯': '±0', '夏時間': '+1', 'ISO 3166-1': 'GB / GBR', 'ccTLD': '[[.uk]] / [[.gb]]<ref>使用は.ukに比べ圧倒的少数。</ref>', '国際電話番号': '44', '注記': '<references/>'}\n"
     ]
    }
   ],
   "source": [
    "\"\"\"\n",
    "26. 強調マークアップの除去\n",
    "25の処理時に，テンプレートの値からMediaWikiの強調マークアップ（弱い強調，強調，強い強調のすべて）を除去してテキストに変換せよ\n",
    "\"\"\"\n",
    "import re\n",
    "\n",
    "template_list = re.findall(r'\\{\\{基礎情報(.*?)\\n\\}\\}', UK_article.get('text'), re.DOTALL)\n",
    "template_dict = {}\n",
    "for template in template_list:\n",
    "    field_value_pairs = re.findall(r'\\|(.*?)\\s*=\\s*(.*?)(?=(?=\\n\\|)|(?=$))', template, re.DOTALL)\n",
    "\n",
    "    for field, value in field_value_pairs:\n",
    "        value = re.sub(r\"''+\", '', value)\n",
    "        template_dict[field.strip()] = value.strip()\n",
    "\n",
    "print(template_dict)"
   ]
  },
  {
   "cell_type": "code",
   "execution_count": 137,
   "metadata": {},
   "outputs": [
    {
     "name": "stdout",
     "output_type": "stream",
     "text": [
      "{'略名': 'イギリス', '日本語国名': 'グレートブリテン及び北アイルランド連合王国', '公式国名': '{{lang|en|United Kingdom of Great Britain and Northern Ireland}}<ref>英語以外での正式国名:<br />\\n*{{lang|gd|An Rìoghachd Aonaichte na Breatainn Mhòr agus Eirinn mu Thuath}}（スコットランド・ゲール語）\\n*{{lang|cy|Teyrnas Gyfunol Prydain Fawr a Gogledd Iwerddon}}（ウェールズ語）\\n*{{lang|ga|Ríocht Aontaithe na Breataine Móire agus Tuaisceart na hÉireann}}（アイルランド語）\\n*{{lang|kw|An Rywvaneth Unys a Vreten Veur hag Iwerdhon Glédh}}（コーンウォール語）\\n*{{lang|sco|Unitit Kinrick o Great Breetain an Northren Ireland}}（スコットランド語）\\n**{{lang|sco|Claught Kängrick o Docht Brätain an Norlin Airlann}}、{{lang|sco|Unitet Kängdom o Great Brittain an Norlin Airlann}}（アルスター・スコットランド語）</ref>', '国旗画像': 'Flag of the United Kingdom.svg', '国章画像': '[[ファイル:Royal Coat of Arms of the United Kingdom.svg|85px|イギリスの国章]]', '国章リンク': '（国章）', '標語': '{{lang|fr|Dieu et mon droit}}<br />（フランス語:神と我が権利）', '国歌': '[[女王陛下万歳|{{lang|en|God Save the Queen}}]]{{en icon}}<br />神よ女王を護り賜え<br />{{center|ファイル:United States Navy Band - God Save the Queen.ogg}}', '地図画像': 'Europe-UK.svg', '位置画像': 'United Kingdom (+overseas territories) in the World (+Antarctica claims).svg', '公用語': '英語', '首都': 'ロンドン（事実上）', '最大都市': 'ロンドン', '元首等肩書': '女王', '元首等氏名': 'エリザベス2世', '首相等肩書': '首相', '首相等氏名': 'ボリス・ジョンソン', '他元首等肩書1': '貴族院議長', '他元首等氏名1': 'ノーマン・ファウラー', '他元首等肩書2': '庶民院議長', '他元首等氏名2': '{{仮リンク|リンゼイ・ホイル|en|Lindsay Hoyle}}', '他元首等肩書3': '最高裁判所長官', '他元首等氏名3': 'ブレンダ・ヘイル', '面積順位': '76', '面積大きさ': '1 E11', '面積値': '244,820', '水面積率': '1.3%', '人口統計年': '2018', '人口順位': '22', '人口大きさ': '1 E7', '人口値': '6643万5600<ref>{{Cite web|url=https://www.ons.gov.uk/peoplepopulationandcommunity/populationandmigration/populationestimates|title=Population estimates - Office for National Statistics|accessdate=2019-06-26|date=2019-06-26}}</ref>', '人口密度値': '271', 'GDP統計年元': '2012', 'GDP値元': '1兆5478億<ref name=\"imf-statistics-gdp\">[http://www.imf.org/external/pubs/ft/weo/2012/02/weodata/weorept.aspx?pr.x=70&pr.y=13&sy=2010&ey=2012&scsm=1&ssd=1&sort=country&ds=.&br=1&c=112&s=NGDP%2CNGDPD%2CPPPGDP%2CPPPPC&grp=0&a=IMF>Data and Statistics>World Economic Outlook Databases>By Countrise>United Kingdom]</ref>', 'GDP統計年MER': '2012', 'GDP順位MER': '6', 'GDP値MER': '2兆4337億<ref name=\"imf-statistics-gdp\" />', 'GDP統計年': '2012', 'GDP順位': '6', 'GDP値': '2兆3162億<ref name=\"imf-statistics-gdp\" />', 'GDP/人': '36,727<ref name=\"imf-statistics-gdp\" />', '建国形態': '建国', '確立形態1': 'イングランド王国／スコットランド王国<br />（両国とも1707年合同法まで）', '確立年月日1': '927年／843年', '確立形態2': 'グレートブリテン王国成立<br />（1707年合同法）', '確立年月日2': '1707年{{0}}5月{{0}}1日', '確立形態3': 'グレートブリテン及びアイルランド連合王国成立<br />（1800年合同法）', '確立年月日3': '1801年{{0}}1月{{0}}1日', '確立形態4': '現在の国号「グレートブリテン及び北アイルランド連合王国」に変更', '確立年月日4': '1927年{{0}}4月12日', '通貨': 'UKポンド (£)', '通貨コード': 'GBP', '時間帯': '±0', '夏時間': '+1', 'ISO 3166-1': 'GB / GBR', 'ccTLD': '.uk / .gb<ref>使用は.ukに比べ圧倒的少数。</ref>', '国際電話番号': '44', '注記': '<references/>'}\n"
     ]
    }
   ],
   "source": [
    "\"\"\"\n",
    "27. 内部リンクの除去\n",
    "26の処理に加えて，テンプレートの値からMediaWikiの内部リンクマークアップを除去し，テキストに変換せよ\n",
    "\"\"\"\n",
    "import re\n",
    "\n",
    "template_list = re.findall(r'\\{\\{基礎情報(.*?)\\n\\}\\}', UK_article.get('text'), re.DOTALL)\n",
    "template_dict = {}\n",
    "for template in template_list:\n",
    "    field_value_pairs = re.findall(r'\\|(.*?)\\s*=\\s*(.*?)(?=(?=\\n\\|)|(?=$))', template, re.DOTALL)\n",
    "\n",
    "    for field, value in field_value_pairs:\n",
    "        value = re.sub(r\"''+\", '', value)\n",
    "        value = re.sub(r'\\[\\[([^\\|]+?)\\]\\]', r'\\1', value)\n",
    "        value = re.sub(r'\\[\\[([^\\|]+)\\|([^\\|]+)\\]\\]', r'\\2', value)\n",
    "\n",
    "\n",
    "        template_dict[field.strip()] = value.strip()\n",
    "\n",
    "print(template_dict)"
   ]
  },
  {
   "cell_type": "code",
   "execution_count": 163,
   "metadata": {},
   "outputs": [
    {
     "name": "stdout",
     "output_type": "stream",
     "text": [
      "略名: イギリス\n",
      "日本語国名: グレートブリテン及び北アイルランド連合王国\n",
      "公式国名: United Kingdom of Great Britain and Northern Ireland<ref>英語以外での正式国名:<br />*An Rìoghachd Aonaichte na Breatainn Mhòr agus Eirinn mu Thuath（スコットランド・ゲール語）*Teyrnas Gyfunol Prydain Fawr a Gogledd Iwerddon（ウェールズ語）*Ríocht Aontaithe na Breataine Móire agus Tuaisceart na hÉireann（アイルランド語）*An Rywvaneth Unys a Vreten Veur hag Iwerdhon Glédh（コーンウォール語）*Unitit Kinrick o Great Breetain an Northren Ireland（スコットランド語）**Claught Kängrick o Docht Brätain an Norlin Airlann、Unitet Kängdom o Great Brittain an Norlin Airlann（アルスター・スコットランド語）</ref>\n",
      "国旗画像: Flag of the United Kingdom.svg\n",
      "国章画像: Royal Coat of Arms of the United Kingdom.svg\n",
      "国章リンク: （国章）\n",
      "標語: Dieu et mon droit<br />（フランス語:神と我が権利）\n",
      "国歌: God Save the Queen{{en icon}}<br />神よ女王を護り賜え<br />{{center|ファイル:United States Navy Band - God Save the Queen.ogg}}\n",
      "地図画像: Europe-UK.svg\n",
      "位置画像: United Kingdom (+overseas territories) in the World (+Antarctica claims).svg\n",
      "公用語: 英語\n",
      "首都: ロンドン（事実上）\n",
      "最大都市: ロンドン\n",
      "元首等肩書: 女王\n",
      "元首等氏名: エリザベス2世\n",
      "首相等肩書: 首相\n",
      "首相等氏名: ボリス・ジョンソン\n",
      "他元首等肩書1: 貴族院議長\n",
      "他元首等氏名1: ノーマン・ファウラー\n",
      "他元首等肩書2: 庶民院議長\n",
      "他元首等氏名2: Lindsay Hoyle\n",
      "他元首等肩書3: 最高裁判所長官\n",
      "他元首等氏名3: ブレンダ・ヘイル\n",
      "面積順位: 76\n",
      "面積大きさ: 1 E11\n",
      "面積値: 244,820\n",
      "水面積率: 1.3%\n",
      "人口統計年: 2018\n",
      "人口順位: 22\n",
      "人口大きさ: 1 E7\n",
      "人口値: 6643万5600<ref>{{Cite web|url=https://www.ons.gov.uk/peoplepopulationandcommunity/populationandmigration/populationestimates|title=Population estimates - Office for National Statistics|accessdate=2019-06-26|date=2019-06-26}}</ref>\n",
      "人口密度値: 271\n",
      "GDP統計年元: 2012\n",
      "GDP値元: 1兆5478億<ref name=\"imf-statistics-gdp\">[http://www.imf.org/external/pubs/ft/weo/2012/02/weodata/weorept.aspx?pr.x=70&pr.y=13&sy=2010&ey=2012&scsm=1&ssd=1&sort=country&ds=.&br=1&c=112&s=NGDP%2CNGDPD%2CPPPGDP%2CPPPPC&grp=0&a=IMF>Data and Statistics>World Economic Outlook Databases>By Countrise>United Kingdom]</ref>\n",
      "GDP統計年MER: 2012\n",
      "GDP順位MER: 6\n",
      "GDP値MER: 2兆4337億<ref name=\"imf-statistics-gdp\" />\n",
      "GDP統計年: 2012\n",
      "GDP順位: 6\n",
      "GDP値: 2兆3162億<ref name=\"imf-statistics-gdp\" />\n",
      "GDP/人: 36,727<ref name=\"imf-statistics-gdp\" />\n",
      "建国形態: 建国\n",
      "確立形態1: イングランド王国／スコットランド王国<br />（両国とも1707年合同法まで）\n",
      "確立年月日1: 927年／843年\n",
      "確立形態2: グレートブリテン王国成立<br />（1707年合同法）\n",
      "確立年月日2: 1707年{{0}}5月{{0}}1日\n",
      "確立形態3: グレートブリテン及びアイルランド連合王国成立<br />（1800年合同法）\n",
      "確立年月日3: 1801年{{0}}1月{{0}}1日\n",
      "確立形態4: 現在の国号「グレートブリテン及び北アイルランド連合王国」に変更\n",
      "確立年月日4: 1927年{{0}}4月12日\n",
      "通貨: UKポンド (£)\n",
      "通貨コード: GBP\n",
      "時間帯: ±0\n",
      "夏時間: +1\n",
      "ISO 3166-1: GB / GBR\n",
      "ccTLD: .uk / .gb<ref>使用は.ukに比べ圧倒的少数。</ref>\n",
      "国際電話番号: 44\n",
      "注記: <references/>\n"
     ]
    }
   ],
   "source": [
    "\"\"\"\n",
    "28. MediaWikiマークアップの除去\n",
    "27の処理に加えて，テンプレートの値からMediaWikiマークアップを可能な限り除去し，国の基本情報を整形せよ．\n",
    "\"\"\"\n",
    "import re\n",
    "\n",
    "template_list = re.findall(r'\\{\\{基礎情報(.*?)\\n\\}\\}', UK_article.get('text'), re.DOTALL)\n",
    "template_dict = {}\n",
    "for template in template_list:\n",
    "    field_value_pairs = re.findall(r'\\|(.*?)\\s*=\\s*(.*?)(?=(?=\\n\\|)|(?=$))', template, re.DOTALL)\n",
    "\n",
    "    for field, value in field_value_pairs:\n",
    "        value = re.sub(r\"''+\", '', value)\n",
    "\n",
    "        value = re.sub(r'\\n', '', value)\n",
    "        value = re.sub(r'\\[\\[([^\\|]+?)\\]\\]', r'\\1', value)\n",
    "        \n",
    "        value = re.sub(r'\\[\\[ファイル:(.*?)\\|.*?\\]\\]',r'\\1', value)\n",
    "        value = re.sub(r'\\{\\{[^\\|]+?\\|[^\\|]+?\\|([^\\|]+?)\\}\\}', r'\\1', value)#Otheruses\n",
    "        value = re.sub(r'\\{\\{[^\\|]+?\\|[^\\|]+?\\|[^\\|]+?\\|([^\\|]+)\\}\\}', r'\\1', value)#Otheruses\n",
    "        value = re.sub(r'\\[\\[([^\\|]+)\\|([^\\|]+)\\]\\]', r'\\2', value)\n",
    "        template_dict[field.strip()] = value.strip()\n",
    "\n",
    "for key, value in template_dict.items():\n",
    "    print(f\"{key}: {value}\")"
   ]
  },
  {
   "cell_type": "code",
   "execution_count": 142,
   "metadata": {},
   "outputs": [
    {
     "name": "stdout",
     "output_type": "stream",
     "text": [
      "Image URL: https://upload.wikimedia.org/wikipedia/en/a/ae/Flag_of_the_United_Kingdom.svg\n"
     ]
    }
   ],
   "source": [
    "\"\"\"\n",
    "29. 国旗画像のURLを取得する\n",
    "テンプレートの内容を利用し，国旗画像のURLを取得せよ．（ヒント: MediaWiki APIのimageinfoを呼び出して，ファイル参照をURLに変換すればよい）\n",
    "\"\"\"\n",
    "import requests\n",
    "file_name = template_dict['国旗画像']\n",
    "\n",
    "URL = \"https://en.wikipedia.org/w/api.php\"\n",
    "\n",
    "# リクエストのパラメータ\n",
    "PARAMS = {\n",
    "    \"action\": \"query\",\n",
    "    \"format\": \"json\",\n",
    "    \"prop\": \"imageinfo\",\n",
    "    \"titles\": \"File:\"+file_name,\n",
    "    \"iiprop\": \"url\"  \n",
    "}\n",
    "\n",
    "response = requests.get(URL, params=PARAMS)\n",
    "data = response.json()\n",
    "\n",
    "pages = data.get(\"query\", {}).get(\"pages\", {})\n",
    "for page_id, page_data in pages.items():\n",
    "    if \"imageinfo\" in page_data:\n",
    "        image_url = page_data[\"imageinfo\"][0][\"url\"]\n",
    "        print(\"Image URL:\", image_url)"
   ]
  }
 ],
 "metadata": {
  "kernelspec": {
   "display_name": "Python 3",
   "language": "python",
   "name": "python3"
  },
  "language_info": {
   "codemirror_mode": {
    "name": "ipython",
    "version": 3
   },
   "file_extension": ".py",
   "mimetype": "text/x-python",
   "name": "python",
   "nbconvert_exporter": "python",
   "pygments_lexer": "ipython3",
   "version": "3.13.0"
  }
 },
 "nbformat": 4,
 "nbformat_minor": 2
}
