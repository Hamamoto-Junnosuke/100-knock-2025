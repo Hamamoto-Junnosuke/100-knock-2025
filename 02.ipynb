{
 "cells": [
  {
   "cell_type": "markdown",
   "metadata": {},
   "source": [
    "#第2章: UNIXコマンド"
   ]
  },
  {
   "cell_type": "code",
   "execution_count": null,
   "metadata": {},
   "outputs": [
    {
     "name": "stdout",
     "output_type": "stream",
     "text": [
      "2780\n"
     ]
    }
   ],
   "source": [
    "\"\"\"\n",
    "10. 行数のカウントPermalink\n",
    "行数をカウントせよ．確認にはwcコマンドを用いよ．\n",
    "\"\"\"\n",
    "path = \"popular-names.txt\"\n",
    "with open(path, 'r') as f:\n",
    "    cnt = len(f.readlines())\n",
    "print(cnt)\n",
    "\n",
    "#wc -l popular-names.txt\n"
   ]
  },
  {
   "cell_type": "code",
   "execution_count": null,
   "metadata": {},
   "outputs": [],
   "source": [
    "\"\"\"\n",
    "11. タブをスペースに置換Permalink\n",
    "タブ1文字につきスペース1文字に置換せよ．確認には\n",
    "sedコマンド 　　:sed -i 's/\\t/ /g' popular-names.txt\n",
    "i ファイルの上書き\n",
    "s　置換\n",
    "g　一致するものをすべて置換\n",
    "trコマンド　　　 :tr '\\t' ' ' < popular-names.txt > output.txt\n",
    "expandコマンド　:expand -t 1 popular-names.txt > output.txt \n",
    "-t 文字数の指定\n",
    "を用いよ．\n",
    "\"\"\"\n",
    "path = \"popular-names.txt\"\n",
    "with open(path, 'r', encoding='utf-8') as f:\n",
    "    s = f.read()\n",
    "s = s.replace('\\t', ' ')\n",
    "with open(path, 'w', encoding='utf-8') as f:\n",
    "    f.write(s)\n"
   ]
  },
  {
   "cell_type": "code",
   "execution_count": 12,
   "metadata": {},
   "outputs": [],
   "source": [
    "\"\"\"\n",
    "12. 1列目をcol1.txtに，2列目をcol2.txtに保存\n",
    "各行の1列目だけを抜き出したものをcol1.txtに，2列目だけを抜き出したものをcol2.txtとしてファイルに保存せよ．確認にはcutコマンドを用いよ．\n",
    "cut -f 1 -d popular-names.txt > col1.txt\n",
    "cut -f 2 -d popular-names.txt > col2.txt\n",
    "cutコマンド：デフォルトはタブ区切り　-fで何番目の要素か指定 -dで区切り文字を変更可能 (例:-d \"/\") \n",
    "\"\"\"\n",
    "path = \"popular-names.txt\"\n",
    "col1_path = \"col1.txt\"\n",
    "col2_path = \"col2.txt\"\n",
    "\n",
    "names = []\n",
    "sexes = []\n",
    "with open(path, 'r', encoding='utf-8') as f:\n",
    "    s = f.read().split(\"\\n\")\n",
    "for row in s:\n",
    "    row_list = row.split(\"\\t\")\n",
    "    if len(row_list) >= 2:\n",
    "        names.append(row_list[0])\n",
    "        sexes.append(row_list[1])\n",
    "\n",
    "with open(col1_path, 'w', encoding='utf-8') as f:\n",
    "    f.write(\"\\n\".join(names))  \n",
    "\n",
    "with open(col2_path, 'w', encoding='utf-8') as f:\n",
    "    f.write(\"\\n\".join(sexes))     \n"
   ]
  },
  {
   "cell_type": "code",
   "execution_count": null,
   "metadata": {},
   "outputs": [],
   "source": [
    "\"\"\"\n",
    "13. col1.txtとcol2.txtをマージ\n",
    "12で作ったcol1.txtとcol2.txtを結合し，元のファイルの1列目と2列目をタブ区切りで並べたテキストファイルを作成せよ．確認にはpasteコマンドを用いよ．\n",
    "paste col1.txt col2.txt > merge.txt\n",
    "\"\"\"\n",
    "col1_path = \"col1.txt\"\n",
    "col2_path = \"col2.txt\"\n",
    "output_path = \"merge.txt\"\n",
    "\n",
    "with open(col1_path, 'r', encoding='utf-8') as f:\n",
    "    names = f.read().split(\"\\n\")\n",
    "with open(col2_path, 'r', encoding='utf-8') as f:\n",
    "    sexes = f.read().split(\"\\n\")\n",
    "with open(output_path, 'w', encoding='utf-8') as f:\n",
    "    for name,sex in zip(names, sexes):\n",
    "        f.write(f\"{name.strip()}\\t{sex.strip()}\\n\")\n",
    "        \n"
   ]
  },
  {
   "cell_type": "code",
   "execution_count": null,
   "metadata": {},
   "outputs": [
    {
     "name": "stdout",
     "output_type": "stream",
     "text": [
      "Mary\tF\t7065\t1880\n",
      "Anna\tF\t2604\t1880\n",
      "Emma\tF\t2003\t1880\n",
      "Elizabeth\tF\t1939\t1880\n",
      "Minnie\tF\t1746\t1880\n"
     ]
    }
   ],
   "source": [
    "\"\"\"\n",
    "14. 先頭からN行を出力Permalink\n",
    "自然数Nをコマンドライン引数などの手段で受け取り，入力のうち先頭のN行だけを表示せよ．確認にはheadコマンドを用いよ．\n",
    "head -n 5 popular-names.txt \n",
    "-n 行数の指定\n",
    "\"\"\"\n",
    "n = int(input(\"表示する行数を入力してください:\"))\n",
    "path = \"popular-names.txt\"\n",
    "\n",
    "with open(path, 'r', encoding='utf-8') as f:\n",
    "    s = f.read().split(\"\\n\")\n",
    "for i in range(n):\n",
    "    print(s[i])\n",
    "\n"
   ]
  },
  {
   "cell_type": "code",
   "execution_count": null,
   "metadata": {},
   "outputs": [
    {
     "name": "stdout",
     "output_type": "stream",
     "text": [
      "Benjamin\tM\t13381\t2018\n",
      "Elijah\tM\t12886\t2018\n",
      "Lucas\tM\t12585\t2018\n",
      "Mason\tM\t12435\t2018\n",
      "Logan\tM\t12352\t2018\n"
     ]
    }
   ],
   "source": [
    "\"\"\"\n",
    "15. 末尾のN行を出力Permalink\n",
    "自然数Nをコマンドライン引数などの手段で受け取り，入力のうち末尾のN行だけを表示せよ．確認にはtailコマンドを用いよ．\n",
    "tail -n 5 popular-names.txt \n",
    "\"\"\"\n",
    "n = int(input(\"表示する行数を入力してください:\"))\n",
    "path = \"popular-names.txt\"\n",
    "\n",
    "with open(path, 'r', encoding='utf-8') as f:\n",
    "    s = f.read().split(\"\\n\")\n",
    "s = [line for line in s if line.strip()] #末尾の空行の削除\n",
    "for i in range(n):\n",
    "    print(s[-(n-i)])"
   ]
  },
  {
   "cell_type": "code",
   "execution_count": null,
   "metadata": {},
   "outputs": [
    {
     "name": "stdout",
     "output_type": "stream",
     "text": [
      "927\n",
      "927\n",
      "926\n"
     ]
    }
   ],
   "source": [
    "\"\"\"\n",
    "16. ファイルをN分割するPermalink\n",
    "自然数Nをコマンドライン引数などの手段で受け取り，入力のファイルを行単位でN分割せよ．同様の処理をsplitコマンドで実現せよ．\n",
    "split -n l/3 popular-names.txt -n n分割　l/3これだと行の途中で分割される\n",
    "\"\"\"\n",
    "N = int(input(\"行の分割数を入力してください:\"))\n",
    "path = \"popular-names.txt\"\n",
    "with open(path, 'r', encoding='utf-8') as f:\n",
    "    s = f.read().split(\"\\n\")\n",
    "s = [line for line in s if line.strip()] #末尾の空行の削除\n",
    "row_cnt = int(len(s)/N)\n",
    "row_rem = len(s)%N\n",
    "row_num=0\n",
    "for i in range(N):\n",
    "    output_path = f\"split_{i}.txt\"\n",
    "    with open(output_path, 'w', encoding='utf-8') as f:\n",
    "        if(row_rem>0):\n",
    "            tmp = row_cnt + 1\n",
    "        else:\n",
    "            tmp= row_cnt\n",
    "        row_rem -= 1\n",
    "        for j in range(row_num, row_num + tmp) :\n",
    "            f.write(f\"{s[j]}\\n\")\n",
    "        row_num += tmp\n",
    "        \n",
    "            \n"
   ]
  },
  {
   "cell_type": "code",
   "execution_count": null,
   "metadata": {},
   "outputs": [
    {
     "name": "stdout",
     "output_type": "stream",
     "text": [
      "{'Lillian', 'Marie', 'Jeffrey', 'Tyler', 'Pamela', 'Liam', 'Megan', 'Frances', 'William', 'Linda', 'Edward', 'James', 'Crystal', 'Charles', 'Cynthia', 'Karen', 'Kimberly', 'Larry', 'Donna', 'Emma', 'Melissa', 'Heather', 'Jacob', 'Lauren', 'Logan', 'Brittany', 'Betty', 'Bertha', 'Michelle', 'Christopher', 'Michael', 'Mildred', 'Matthew', 'Ruth', 'Anna', 'Rachel', 'Chloe', 'Deborah', 'Ethel', 'Austin', 'Jason', 'Joan', 'Lori', 'Kelly', 'Nicole', 'Bessie', 'Ashley', 'Laura', 'Samantha', 'Noah', 'Alice', 'John', 'Benjamin', 'Carolyn', 'Amy', 'Brandon', 'Tammy', 'Anthony', 'Olivia', 'Lucas', 'George', 'Mary', 'Shirley', 'Justin', 'Joseph', 'Clara', 'David', 'Lisa', 'Daniel', 'Kathleen', 'Rebecca', 'Helen', 'Julie', 'Ida', 'Mark', 'Sophia', 'Thomas', 'Margaret', 'Angela', 'Tracy', 'Annie', 'Scott', 'Doris', 'Judith', 'Susan', 'Elijah', 'Richard', 'Carol', 'Ethan', 'Brian', 'Harper', 'Abigail', 'Walter', 'Ava', 'Debra', 'Sharon', 'Nancy', 'Amelia', 'Alexander', 'Emily', 'Sandra', 'Frank', 'Hannah', 'Steven', 'Florence', 'Minnie', 'Barbara', 'Jessica', 'Stephanie', 'Dorothy', 'Donald', 'Sarah', 'Madison', 'Gary', 'Joshua', 'Mason', 'Alexis', 'Patricia', 'Taylor', 'Henry', 'Isabella', 'Robert', 'Oliver', 'Jennifer', 'Virginia', 'Aiden', 'Amanda', 'Charlotte', 'Evelyn', 'Harry', 'Mia', 'Andrew', 'Elizabeth', 'Jayden', 'Nicholas', 'Ronald'}\n"
     ]
    }
   ],
   "source": [
    "\"\"\"\n",
    "17. １列目の文字列の異なりPermalink\n",
    "1列目の文字列の種類（異なる文字列の集合）を求めよ．確認にはcut, sort, uniqコマンドを用いよ．\n",
    "cut -f1 popular-names.txt |sort | uniq\n",
    "\"\"\"\n",
    "path = \"popular-names.txt\"\n",
    "uniq_names = set()\n",
    "with open(path, 'r', encoding='utf-8') as f:\n",
    "    for row in f:\n",
    "        row_list = row.split(\"\\t\")\n",
    "        uniq_names.add(row_list[0])\n",
    "print(uniq_names)\n"
   ]
  },
  {
   "cell_type": "code",
   "execution_count": null,
   "metadata": {},
   "outputs": [
    {
     "name": "stdout",
     "output_type": "stream",
     "text": [
      "            0  1      2     3\n",
      "1340    Linda  F  99689  1947\n",
      "1360    Linda  F  96211  1948\n",
      "1350    James  M  94757  1947\n",
      "1550  Michael  M  92704  1957\n",
      "1351   Robert  M  91640  1947\n",
      "...       ... ..    ...   ...\n",
      "27      Annie  F   1326  1881\n",
      "28     Bertha  F   1324  1881\n",
      "8      Bertha  F   1320  1880\n",
      "29      Alice  F   1308  1881\n",
      "9       Sarah  F   1288  1880\n",
      "\n",
      "[2780 rows x 4 columns]\n",
      "              0  1      2     3\n",
      "0          Mary  F   7065  1880\n",
      "1          Anna  F   2604  1880\n",
      "2          Emma  F   2003  1880\n",
      "3     Elizabeth  F   1939  1880\n",
      "4        Minnie  F   1746  1880\n",
      "...         ... ..    ...   ...\n",
      "2775   Benjamin  M  13381  2018\n",
      "2776     Elijah  M  12886  2018\n",
      "2777      Lucas  M  12585  2018\n",
      "2778      Mason  M  12435  2018\n",
      "2779      Logan  M  12352  2018\n",
      "\n",
      "[2780 rows x 4 columns]\n"
     ]
    }
   ],
   "source": [
    "\"\"\"\n",
    "18. 各行を3コラム目の数値の降順にソート\n",
    "各行を3コラム目の数値の逆順で整列せよ（注意: 各行の内容は変更せずに並び替えよ）．\n",
    "確認にはsortコマンドを用いよ（この問題はコマンドで実行した時の結果と合わなくてもよい）．\n",
    "sort -n -r -k 3 popular-names.txt\n",
    "-n 数値としてソート\n",
    "-r 降順\n",
    "-k 3 3行目をキーとしてソート\n",
    "\"\"\"\n",
    "import pandas as pd\n",
    "path = \"popular-names.txt\"\n",
    "df = pd.read_table(path,  header=None, sep='\\t')\n",
    "print(df.sort_values(2,ascending=False))"
   ]
  },
  {
   "cell_type": "code",
   "execution_count": null,
   "metadata": {},
   "outputs": [
    {
     "name": "stdout",
     "output_type": "stream",
     "text": [
      "0\n",
      "James      118\n",
      "William    111\n",
      "Robert     108\n",
      "John       108\n",
      "Mary        92\n",
      "          ... \n",
      "Julie        1\n",
      "Laura        1\n",
      "Scott        1\n",
      "Rachel       1\n",
      "Lucas        1\n",
      "Name: count, Length: 136, dtype: int64\n"
     ]
    }
   ],
   "source": [
    "\"\"\"\n",
    "19. 各行の1コラム目の文字列の出現頻度を求め，出現頻度の高い順に並べる\n",
    "各行の1列目の文字列の出現頻度を求め，その高い順に並べて表示せよ．確認にはcut, uniq, sortコマンドを用いよ．\n",
    "cut -f1 /home/j348hama/project/kensyu/popular-names.txt | sort | uniq -c | sort -r -n\n",
    "-c 重複した行のカウント\n",
    "\"\"\"\n",
    "import pandas as pd\n",
    "path = \"popular-names.txt\"\n",
    "df = pd.read_table(path,  header=None, sep='\\t')\n",
    "print(df[0].value_counts())"
   ]
  }
 ],
 "metadata": {
  "kernelspec": {
   "display_name": "Python 3",
   "language": "python",
   "name": "python3"
  },
  "language_info": {
   "codemirror_mode": {
    "name": "ipython",
    "version": 3
   },
   "file_extension": ".py",
   "mimetype": "text/x-python",
   "name": "python",
   "nbconvert_exporter": "python",
   "pygments_lexer": "ipython3",
   "version": "3.13.0"
  }
 },
 "nbformat": 4,
 "nbformat_minor": 2
}
