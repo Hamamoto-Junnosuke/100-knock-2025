{
 "cells": [
  {
   "cell_type": "markdown",
   "metadata": {},
   "source": [
    "### 第2章: UNIXコマンド"
   ]
  },
  {
   "cell_type": "markdown",
   "metadata": {},
   "source": [
    "popular-names.txtは、アメリカで生まれた赤ちゃんの「名前」「性別」「人数」「年」をタブ区切り形式で格納したファイルである。以下の処理を行うプログラムを作成し、popular-names.txtを入力ファイルとして実行せよ。さらに、同様の処理をUNIXコマンドでも実行し、プログラムの実行結果を確認せよ。"
   ]
  },
  {
   "cell_type": "code",
   "execution_count": null,
   "metadata": {},
   "outputs": [
    {
     "name": "stdout",
     "output_type": "stream",
     "text": [
      "2780\n"
     ]
    }
   ],
   "source": [
    "\"\"\"\n",
    "10. 行数のカウント\n",
    "行数をカウントせよ．確認にはwcコマンドを用いよ．\n",
    "\n",
    "wc -l popular-names.txt\n",
    "\"\"\"\n",
    "path = \"popular-names.txt\"\n",
    "with open(path, 'r') as f:\n",
    "    cnt = len(f.readlines())\n",
    "print(cnt)\n",
    "\n",
    "\n"
   ]
  },
  {
   "cell_type": "code",
   "execution_count": 1,
   "metadata": {},
   "outputs": [
    {
     "name": "stdout",
     "output_type": "stream",
     "text": [
      "Mary\tF\t7065\t1880\n",
      "Anna\tF\t2604\t1880\n",
      "Emma\tF\t2003\t1880\n",
      "Elizabeth\tF\t1939\t1880\n",
      "Minnie\tF\t1746\t1880\n",
      "Margaret\tF\t1578\t1880\n",
      "Ida\tF\t1472\t1880\n",
      "Alice\tF\t1414\t1880\n",
      "Bertha\tF\t1320\t1880\n",
      "Sarah\tF\t1288\t1880\n"
     ]
    }
   ],
   "source": [
    "\"\"\"\n",
    "11. 先頭からN行を出力\n",
    "ファイルの先頭N行だけを表示せよ。例えば、N=10として先頭10行を表示せよ。確認にはheadコマンドを用いよ。\n",
    "\n",
    "head -n 5 popular-names.txt \n",
    "-n 行数の指定\n",
    "\"\"\"\n",
    "n = int(input(\"表示する行数を入力してください:\"))\n",
    "path = \"popular-names.txt\"\n",
    "\n",
    "with open(path, 'r', encoding='utf-8') as f:\n",
    "    s = f.read().split(\"\\n\")\n",
    "for i in range(n):\n",
    "    print(s[i])\n",
    "\n"
   ]
  },
  {
   "cell_type": "code",
   "execution_count": 2,
   "metadata": {},
   "outputs": [
    {
     "name": "stdout",
     "output_type": "stream",
     "text": [
      "Liam\tM\t19837\t2018\n",
      "Noah\tM\t18267\t2018\n",
      "William\tM\t14516\t2018\n",
      "James\tM\t13525\t2018\n",
      "Oliver\tM\t13389\t2018\n",
      "Benjamin\tM\t13381\t2018\n",
      "Elijah\tM\t12886\t2018\n",
      "Lucas\tM\t12585\t2018\n",
      "Mason\tM\t12435\t2018\n",
      "Logan\tM\t12352\t2018\n"
     ]
    }
   ],
   "source": [
    "\"\"\"\n",
    "12. 末尾のN行を出力\n",
    "ファイルの末尾N行だけを表示せよ。例えば、N=10として末尾10行を表示せよ。確認にはtailコマンドを用いよ。\n",
    "\n",
    "tail -n 5 popular-names.txt \n",
    "\"\"\"\n",
    "n = int(input(\"表示する行数を入力してください:\"))\n",
    "path = \"popular-names.txt\"\n",
    "\n",
    "with open(path, 'r', encoding='utf-8') as f:\n",
    "    s = f.read().split(\"\\n\")\n",
    "s = [line for line in s if line.strip()]\n",
    "for i in range(n):\n",
    "    print(s[-(n-i)])"
   ]
  },
  {
   "cell_type": "code",
   "execution_count": 3,
   "metadata": {},
   "outputs": [
    {
     "name": "stdout",
     "output_type": "stream",
     "text": [
      "Mary F 7065 1880\n",
      "\n",
      "Anna F 2604 1880\n",
      "\n",
      "Emma F 2003 1880\n",
      "\n",
      "Elizabeth F 1939 1880\n",
      "\n",
      "Minnie F 1746 1880\n",
      "\n",
      "Margaret F 1578 1880\n",
      "\n",
      "Ida F 1472 1880\n",
      "\n",
      "Alice F 1414 1880\n",
      "\n",
      "Bertha F 1320 1880\n",
      "\n",
      "Sarah F 1288 1880\n",
      "\n"
     ]
    }
   ],
   "source": [
    "\"\"\"\n",
    "13. タブをスペースに置換\n",
    "ファイルの先頭10行に対して、タブ1文字につきスペース1文字に置換して出力せよ。\n",
    "確認にはsedコマンド、trコマンド、もしくはexpandコマンドなどを用いよ。\n",
    "\n",
    "11. タブをスペースに置換\n",
    "タブ1文字につきスペース1文字に置換せよ．確認には\n",
    "\n",
    "sedコマンド 　　:head -n 10 popular-names.txt | sed 's/\\t/ /g'\n",
    "s　置換, g　一致するものをすべて置換\n",
    "\n",
    "trコマンド　　　 :head -n 10 popular-names.txt | tr '\\t' ' ' \n",
    "\n",
    "expandコマンド　:head -n 10 popular-names.txt | expand -t 1\n",
    "-t 文字数の指定\n",
    "\"\"\"\n",
    "path = \"popular-names.txt\"\n",
    "with open(path, 'r', encoding='utf-8') as f:\n",
    "    for i in range(10):\n",
    "        line = f.readline()\n",
    "        print(line.replace('\\t', ' '))\n",
    "        \n"
   ]
  },
  {
   "cell_type": "code",
   "execution_count": 4,
   "metadata": {},
   "outputs": [
    {
     "name": "stdout",
     "output_type": "stream",
     "text": [
      "Mary\n",
      "Anna\n",
      "Emma\n",
      "Elizabeth\n",
      "Minnie\n",
      "Margaret\n",
      "Ida\n",
      "Alice\n",
      "Bertha\n",
      "Sarah\n"
     ]
    }
   ],
   "source": [
    "\"\"\"\n",
    "14. 1列目を出力\n",
    "ファイルの先頭10行に対して、各行の1列目だけを抜き出して表示せよ。確認にはcutコマンドなどを用いよ。\n",
    "head -n 10 popular-names.txt | cut -f 1\n",
    "cutコマンド：デフォルトはタブ区切り　-fで何番目の要素か指定\n",
    "\"\"\"\n",
    "path = \"popular-names.txt\"\n",
    "with open(path, 'r', encoding='utf-8') as f:\n",
    "    for i in range(10):\n",
    "        line = f.readline()\n",
    "        print(line.split(\"\\t\")[0])\n",
    "        "
   ]
  },
  {
   "cell_type": "code",
   "execution_count": null,
   "metadata": {},
   "outputs": [],
   "source": [
    "\"\"\"\n",
    "15. ファイルをN分割する\n",
    "ファイルを行単位でN分割し、別のファイルに格納せよ。例えば、N=10としてファイルを10分割せよ。同様の処理をsplitコマンドで実現せよ。\n",
    "\n",
    "split -n l/10 popular-names.txt \n",
    "-n n分割　l/10これだと行の途中で分割される\n",
    "\"\"\"\n",
    "N = 10\n",
    "path = \"popular-names.txt\"\n",
    "\n",
    "with open(path, 'r', encoding='utf-8') as f:\n",
    "    s = f.read().split(\"\\n\")\n",
    "s = [line for line in s if line.strip()]\n",
    "row_cnt = int(len(s)/N)\n",
    "row_rem = len(s)%N\n",
    "row_num=0\n",
    "for i in range(N):\n",
    "    output_path = f\"split_{i}.txt\"\n",
    "    with open(output_path, 'w', encoding='utf-8') as f:\n",
    "        if(row_rem>0):\n",
    "            tmp = row_cnt + 1\n",
    "        else:\n",
    "            tmp= row_cnt\n",
    "        row_rem -= 1\n",
    "        for j in range(row_num, row_num + tmp) :\n",
    "            f.write(f\"{s[j]}\\n\")\n",
    "        row_num += tmp\n",
    "        \n",
    "            \n"
   ]
  },
  {
   "cell_type": "code",
   "execution_count": null,
   "metadata": {},
   "outputs": [],
   "source": [
    "\"\"\"\n",
    "16. ランダムに各行を並び替える\n",
    "ファイルを行単位でランダムに並び替えよ（注意: 各行の内容は変更せずに並び替えよ）。同様の処理をshufコマンドで実現せよ。\n",
    "\n",
    "shuf popular-names.txt -o shuffled_popular-names_unix.txt\n",
    "\"\"\"\n",
    "import random\n",
    "\n",
    "input_file_path = \"popular-names.txt\"\n",
    "output_file_path = \"shuffled_popular-names.txt\"\n",
    "\n",
    "with open(input_file_path, 'r', encoding='utf-8') as f:\n",
    "    lines = f.readlines()\n",
    "\n",
    "random.shuffle(lines)\n",
    "\n",
    "with open(output_file_path, 'w', encoding='utf-8') as f:\n",
    "    f.writelines(lines)"
   ]
  },
  {
   "cell_type": "code",
   "execution_count": 7,
   "metadata": {},
   "outputs": [
    {
     "name": "stdout",
     "output_type": "stream",
     "text": [
      "{'Austin', 'Walter', 'Patricia', 'Logan', 'Michael', 'Kelly', 'Alexander', 'Heather', 'Madison', 'Richard', 'Mia', 'Edward', 'Bertha', 'Ida', 'Mildred', 'Larry', 'Joshua', 'Amy', 'Deborah', 'Frances', 'Laura', 'Jacob', 'Barbara', 'Virginia', 'Jason', 'Justin', 'Minnie', 'Helen', 'Ethel', 'Harper', 'Joan', 'Lucas', 'Anna', 'Amelia', 'Michelle', 'Ashley', 'Jennifer', 'Pamela', 'Jeffrey', 'Donald', 'Linda', 'Megan', 'Gary', 'Tyler', 'Taylor', 'Andrew', 'Melissa', 'Emily', 'Annie', 'Joseph', 'Carolyn', 'Nancy', 'Alexis', 'Ruth', 'Ava', 'William', 'Charles', 'Mark', 'Anthony', 'Brittany', 'George', 'Brian', 'Hannah', 'Olivia', 'Amanda', 'Clara', 'Ronald', 'Sophia', 'Liam', 'Brandon', 'Tammy', 'Ethan', 'Matthew', 'Sarah', 'Jayden', 'Noah', 'Sharon', 'Steven', 'Thomas', 'Susan', 'Margaret', 'Rachel', 'Henry', 'Isabella', 'Debra', 'Mason', 'Angela', 'Dorothy', 'James', 'Elijah', 'Julie', 'Chloe', 'Samantha', 'Abigail', 'Judith', 'Betty', 'Christopher', 'Carol', 'Rebecca', 'Lori', 'Harry', 'Karen', 'Aiden', 'Stephanie', 'Lisa', 'Daniel', 'Crystal', 'Lillian', 'Frank', 'Bessie', 'Robert', 'Benjamin', 'Jessica', 'John', 'David', 'Elizabeth', 'Alice', 'Cynthia', 'Scott', 'Tracy', 'Marie', 'Charlotte', 'Florence', 'Donna', 'Shirley', 'Emma', 'Oliver', 'Sandra', 'Nicole', 'Mary', 'Evelyn', 'Kathleen', 'Kimberly', 'Lauren', 'Doris', 'Nicholas'}\n"
     ]
    }
   ],
   "source": [
    "\"\"\"\n",
    "17. １列目の文字列の異なり\n",
    "1列目の文字列の種類（異なる文字列の集合）を求めよ．確認にはcut, sort, uniqコマンドを用いよ．\n",
    "cut -f1 popular-names.txt |sort | uniq\n",
    "\"\"\"\n",
    "path = \"popular-names.txt\"\n",
    "uniq_names = set()\n",
    "with open(path, 'r', encoding='utf-8') as f:\n",
    "    for row in f:\n",
    "        row_list = row.split(\"\\t\")\n",
    "        uniq_names.add(row_list[0])\n",
    "print(uniq_names)"
   ]
  },
  {
   "cell_type": "code",
   "execution_count": 8,
   "metadata": {},
   "outputs": [
    {
     "name": "stdout",
     "output_type": "stream",
     "text": [
      "0\n",
      "James      118\n",
      "William    111\n",
      "Robert     108\n",
      "John       108\n",
      "Mary        92\n",
      "          ... \n",
      "Scott        1\n",
      "Rachel       1\n",
      "Kelly        1\n",
      "Crystal      1\n",
      "Lucas        1\n",
      "Name: count, Length: 136, dtype: int64\n"
     ]
    }
   ],
   "source": [
    "\"\"\"\n",
    "18. 各行の1列目の文字列の出現頻度を求め、出現頻度の高い順に並べる\n",
    "1列目の文字列の出現頻度を求め、出現頻度と名前を出現頻度の多い順に並べて表示せよ。確認にはcut, uniq, sortコマンドを用いよ。\n",
    "cut -f1 popular-names.txt | sort | uniq -c | sort -r -n\n",
    "-c 重複した行のカウント\n",
    "\"\"\"\n",
    "import pandas as pd\n",
    "path = \"popular-names.txt\"\n",
    "df = pd.read_table(path,  header=None, sep='\\t')\n",
    "print(df[0].value_counts())"
   ]
  },
  {
   "cell_type": "code",
   "execution_count": null,
   "metadata": {},
   "outputs": [
    {
     "name": "stdout",
     "output_type": "stream",
     "text": [
      "            0  1      2     3\n",
      "1340    Linda  F  99689  1947\n",
      "1360    Linda  F  96211  1948\n",
      "1350    James  M  94757  1947\n",
      "1550  Michael  M  92704  1957\n",
      "1351   Robert  M  91640  1947\n",
      "...       ... ..    ...   ...\n",
      "27      Annie  F   1326  1881\n",
      "28     Bertha  F   1324  1881\n",
      "8      Bertha  F   1320  1880\n",
      "29      Alice  F   1308  1881\n",
      "9       Sarah  F   1288  1880\n",
      "\n",
      "[2780 rows x 4 columns]\n",
      "              0  1      2     3\n",
      "0          Mary  F   7065  1880\n",
      "1          Anna  F   2604  1880\n",
      "2          Emma  F   2003  1880\n",
      "3     Elizabeth  F   1939  1880\n",
      "4        Minnie  F   1746  1880\n",
      "...         ... ..    ...   ...\n",
      "2775   Benjamin  M  13381  2018\n",
      "2776     Elijah  M  12886  2018\n",
      "2777      Lucas  M  12585  2018\n",
      "2778      Mason  M  12435  2018\n",
      "2779      Logan  M  12352  2018\n",
      "\n",
      "[2780 rows x 4 columns]\n"
     ]
    }
   ],
   "source": [
    "\"\"\"\n",
    "19. 3列目の数値の降順に各行を並び替える\n",
    "3列目の数値の逆順でファイルの各行を整列せよ（注意: 各行の内容は変更せずに並び替えよ）。同様の処理をsortコマンドで実現せよ。\n",
    "\n",
    "sort -n -r -k 3 popular-names.txt\n",
    "-n 数値としてソート\n",
    "-r 降順\n",
    "-k 3 3行目をキーとしてソート\n",
    "\"\"\"\n",
    "import pandas as pd\n",
    "path = \"popular-names.txt\"\n",
    "df = pd.read_table(path,  header=None, sep='\\t')\n",
    "print(df.sort_values(2,ascending=False))"
   ]
  }
 ],
 "metadata": {
  "kernelspec": {
   "display_name": ".venv",
   "language": "python",
   "name": "python3"
  },
  "language_info": {
   "codemirror_mode": {
    "name": "ipython",
    "version": 3
   },
   "file_extension": ".py",
   "mimetype": "text/x-python",
   "name": "python",
   "nbconvert_exporter": "python",
   "pygments_lexer": "ipython3",
   "version": "3.10.12"
  }
 },
 "nbformat": 4,
 "nbformat_minor": 2
}
